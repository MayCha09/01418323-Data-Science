{
  "cells": [
    {
      "cell_type": "markdown",
      "metadata": {
        "id": "3Xdqcmy3E6i5"
      },
      "source": [
        "#  Data Analysis Tools with Pandas - SF Salaries Exercise\n",
        "\n",
        "แบบฝึกหัดนี้เป็นแบบฝึกหัดทดสอบทักษะการใช้งาน library pandas  ด้วย [SF Salaries Dataset](https://www.kaggle.com/kaggle/sf-salaries) จากเว็ปไซต์ Kaggle ให้ทำตามคำสั่ง ต่อไปนี้\n",
        "\n",
        "---"
      ]
    },
    {
      "cell_type": "markdown",
      "metadata": {
        "id": "iB0olluuE6i8"
      },
      "source": [
        "**Import pandas as pd.**"
      ]
    },
    {
      "cell_type": "code",
      "execution_count": null,
      "metadata": {
        "id": "RkdKhNksE6i9"
      },
      "outputs": [],
      "source": [
        "import pandas as pd"
      ]
    },
    {
      "cell_type": "markdown",
      "metadata": {
        "id": "cE_ZdQefE6i-"
      },
      "source": [
        "**ให้นำเข้าข้อมูลจากไฟล์ Salaries.csv มาในรูปของ dataframe โดยตังชื่อตัวแปรว่า sal**"
      ]
    },
    {
      "cell_type": "code",
      "execution_count": null,
      "metadata": {
        "id": "THEE125RE6i-",
        "outputId": "ab103d88-c266-4f79-f49b-e7665cfcf247"
      },
      "outputs": [
        {
          "data": {
            "text/html": [
              "<div>\n",
              "<style scoped>\n",
              "    .dataframe tbody tr th:only-of-type {\n",
              "        vertical-align: middle;\n",
              "    }\n",
              "\n",
              "    .dataframe tbody tr th {\n",
              "        vertical-align: top;\n",
              "    }\n",
              "\n",
              "    .dataframe thead th {\n",
              "        text-align: right;\n",
              "    }\n",
              "</style>\n",
              "<table border=\"1\" class=\"dataframe\">\n",
              "  <thead>\n",
              "    <tr style=\"text-align: right;\">\n",
              "      <th></th>\n",
              "      <th>Id</th>\n",
              "      <th>EmployeeName</th>\n",
              "      <th>JobTitle</th>\n",
              "      <th>BasePay</th>\n",
              "      <th>OvertimePay</th>\n",
              "      <th>OtherPay</th>\n",
              "      <th>Benefits</th>\n",
              "      <th>TotalPay</th>\n",
              "      <th>TotalPayBenefits</th>\n",
              "      <th>Year</th>\n",
              "      <th>Notes</th>\n",
              "      <th>Agency</th>\n",
              "      <th>Status</th>\n",
              "    </tr>\n",
              "  </thead>\n",
              "  <tbody>\n",
              "    <tr>\n",
              "      <th>0</th>\n",
              "      <td>1</td>\n",
              "      <td>NATHANIEL FORD</td>\n",
              "      <td>GENERAL MANAGER-METROPOLITAN TRANSIT AUTHORITY</td>\n",
              "      <td>167411.18</td>\n",
              "      <td>0.00</td>\n",
              "      <td>400184.25</td>\n",
              "      <td>NaN</td>\n",
              "      <td>567595.43</td>\n",
              "      <td>567595.43</td>\n",
              "      <td>2011</td>\n",
              "      <td>NaN</td>\n",
              "      <td>San Francisco</td>\n",
              "      <td>NaN</td>\n",
              "    </tr>\n",
              "    <tr>\n",
              "      <th>1</th>\n",
              "      <td>2</td>\n",
              "      <td>GARY JIMENEZ</td>\n",
              "      <td>CAPTAIN III (POLICE DEPARTMENT)</td>\n",
              "      <td>155966.02</td>\n",
              "      <td>245131.88</td>\n",
              "      <td>137811.38</td>\n",
              "      <td>NaN</td>\n",
              "      <td>538909.28</td>\n",
              "      <td>538909.28</td>\n",
              "      <td>2011</td>\n",
              "      <td>NaN</td>\n",
              "      <td>San Francisco</td>\n",
              "      <td>NaN</td>\n",
              "    </tr>\n",
              "    <tr>\n",
              "      <th>2</th>\n",
              "      <td>3</td>\n",
              "      <td>ALBERT PARDINI</td>\n",
              "      <td>CAPTAIN III (POLICE DEPARTMENT)</td>\n",
              "      <td>212739.13</td>\n",
              "      <td>106088.18</td>\n",
              "      <td>16452.60</td>\n",
              "      <td>NaN</td>\n",
              "      <td>335279.91</td>\n",
              "      <td>335279.91</td>\n",
              "      <td>2011</td>\n",
              "      <td>NaN</td>\n",
              "      <td>San Francisco</td>\n",
              "      <td>NaN</td>\n",
              "    </tr>\n",
              "    <tr>\n",
              "      <th>3</th>\n",
              "      <td>4</td>\n",
              "      <td>CHRISTOPHER CHONG</td>\n",
              "      <td>WIRE ROPE CABLE MAINTENANCE MECHANIC</td>\n",
              "      <td>77916.00</td>\n",
              "      <td>56120.71</td>\n",
              "      <td>198306.90</td>\n",
              "      <td>NaN</td>\n",
              "      <td>332343.61</td>\n",
              "      <td>332343.61</td>\n",
              "      <td>2011</td>\n",
              "      <td>NaN</td>\n",
              "      <td>San Francisco</td>\n",
              "      <td>NaN</td>\n",
              "    </tr>\n",
              "    <tr>\n",
              "      <th>4</th>\n",
              "      <td>5</td>\n",
              "      <td>PATRICK GARDNER</td>\n",
              "      <td>DEPUTY CHIEF OF DEPARTMENT,(FIRE DEPARTMENT)</td>\n",
              "      <td>134401.60</td>\n",
              "      <td>9737.00</td>\n",
              "      <td>182234.59</td>\n",
              "      <td>NaN</td>\n",
              "      <td>326373.19</td>\n",
              "      <td>326373.19</td>\n",
              "      <td>2011</td>\n",
              "      <td>NaN</td>\n",
              "      <td>San Francisco</td>\n",
              "      <td>NaN</td>\n",
              "    </tr>\n",
              "    <tr>\n",
              "      <th>...</th>\n",
              "      <td>...</td>\n",
              "      <td>...</td>\n",
              "      <td>...</td>\n",
              "      <td>...</td>\n",
              "      <td>...</td>\n",
              "      <td>...</td>\n",
              "      <td>...</td>\n",
              "      <td>...</td>\n",
              "      <td>...</td>\n",
              "      <td>...</td>\n",
              "      <td>...</td>\n",
              "      <td>...</td>\n",
              "      <td>...</td>\n",
              "    </tr>\n",
              "    <tr>\n",
              "      <th>148649</th>\n",
              "      <td>148650</td>\n",
              "      <td>Roy I Tillery</td>\n",
              "      <td>Custodian</td>\n",
              "      <td>0.00</td>\n",
              "      <td>0.00</td>\n",
              "      <td>0.00</td>\n",
              "      <td>0.0</td>\n",
              "      <td>0.00</td>\n",
              "      <td>0.00</td>\n",
              "      <td>2014</td>\n",
              "      <td>NaN</td>\n",
              "      <td>San Francisco</td>\n",
              "      <td>NaN</td>\n",
              "    </tr>\n",
              "    <tr>\n",
              "      <th>148650</th>\n",
              "      <td>148651</td>\n",
              "      <td>Not provided</td>\n",
              "      <td>Not provided</td>\n",
              "      <td>NaN</td>\n",
              "      <td>NaN</td>\n",
              "      <td>NaN</td>\n",
              "      <td>NaN</td>\n",
              "      <td>0.00</td>\n",
              "      <td>0.00</td>\n",
              "      <td>2014</td>\n",
              "      <td>NaN</td>\n",
              "      <td>San Francisco</td>\n",
              "      <td>NaN</td>\n",
              "    </tr>\n",
              "    <tr>\n",
              "      <th>148651</th>\n",
              "      <td>148652</td>\n",
              "      <td>Not provided</td>\n",
              "      <td>Not provided</td>\n",
              "      <td>NaN</td>\n",
              "      <td>NaN</td>\n",
              "      <td>NaN</td>\n",
              "      <td>NaN</td>\n",
              "      <td>0.00</td>\n",
              "      <td>0.00</td>\n",
              "      <td>2014</td>\n",
              "      <td>NaN</td>\n",
              "      <td>San Francisco</td>\n",
              "      <td>NaN</td>\n",
              "    </tr>\n",
              "    <tr>\n",
              "      <th>148652</th>\n",
              "      <td>148653</td>\n",
              "      <td>Not provided</td>\n",
              "      <td>Not provided</td>\n",
              "      <td>NaN</td>\n",
              "      <td>NaN</td>\n",
              "      <td>NaN</td>\n",
              "      <td>NaN</td>\n",
              "      <td>0.00</td>\n",
              "      <td>0.00</td>\n",
              "      <td>2014</td>\n",
              "      <td>NaN</td>\n",
              "      <td>San Francisco</td>\n",
              "      <td>NaN</td>\n",
              "    </tr>\n",
              "    <tr>\n",
              "      <th>148653</th>\n",
              "      <td>148654</td>\n",
              "      <td>Joe Lopez</td>\n",
              "      <td>Counselor, Log Cabin Ranch</td>\n",
              "      <td>0.00</td>\n",
              "      <td>0.00</td>\n",
              "      <td>-618.13</td>\n",
              "      <td>0.0</td>\n",
              "      <td>-618.13</td>\n",
              "      <td>-618.13</td>\n",
              "      <td>2014</td>\n",
              "      <td>NaN</td>\n",
              "      <td>San Francisco</td>\n",
              "      <td>NaN</td>\n",
              "    </tr>\n",
              "  </tbody>\n",
              "</table>\n",
              "<p>148654 rows × 13 columns</p>\n",
              "</div>"
            ],
            "text/plain": [
              "            Id       EmployeeName  \\\n",
              "0            1     NATHANIEL FORD   \n",
              "1            2       GARY JIMENEZ   \n",
              "2            3     ALBERT PARDINI   \n",
              "3            4  CHRISTOPHER CHONG   \n",
              "4            5    PATRICK GARDNER   \n",
              "...        ...                ...   \n",
              "148649  148650      Roy I Tillery   \n",
              "148650  148651       Not provided   \n",
              "148651  148652       Not provided   \n",
              "148652  148653       Not provided   \n",
              "148653  148654          Joe Lopez   \n",
              "\n",
              "                                              JobTitle    BasePay  \\\n",
              "0       GENERAL MANAGER-METROPOLITAN TRANSIT AUTHORITY  167411.18   \n",
              "1                      CAPTAIN III (POLICE DEPARTMENT)  155966.02   \n",
              "2                      CAPTAIN III (POLICE DEPARTMENT)  212739.13   \n",
              "3                 WIRE ROPE CABLE MAINTENANCE MECHANIC   77916.00   \n",
              "4         DEPUTY CHIEF OF DEPARTMENT,(FIRE DEPARTMENT)  134401.60   \n",
              "...                                                ...        ...   \n",
              "148649                                       Custodian       0.00   \n",
              "148650                                    Not provided        NaN   \n",
              "148651                                    Not provided        NaN   \n",
              "148652                                    Not provided        NaN   \n",
              "148653                      Counselor, Log Cabin Ranch       0.00   \n",
              "\n",
              "        OvertimePay   OtherPay  Benefits   TotalPay  TotalPayBenefits  Year  \\\n",
              "0              0.00  400184.25       NaN  567595.43         567595.43  2011   \n",
              "1         245131.88  137811.38       NaN  538909.28         538909.28  2011   \n",
              "2         106088.18   16452.60       NaN  335279.91         335279.91  2011   \n",
              "3          56120.71  198306.90       NaN  332343.61         332343.61  2011   \n",
              "4           9737.00  182234.59       NaN  326373.19         326373.19  2011   \n",
              "...             ...        ...       ...        ...               ...   ...   \n",
              "148649         0.00       0.00       0.0       0.00              0.00  2014   \n",
              "148650          NaN        NaN       NaN       0.00              0.00  2014   \n",
              "148651          NaN        NaN       NaN       0.00              0.00  2014   \n",
              "148652          NaN        NaN       NaN       0.00              0.00  2014   \n",
              "148653         0.00    -618.13       0.0    -618.13           -618.13  2014   \n",
              "\n",
              "        Notes         Agency  Status  \n",
              "0         NaN  San Francisco     NaN  \n",
              "1         NaN  San Francisco     NaN  \n",
              "2         NaN  San Francisco     NaN  \n",
              "3         NaN  San Francisco     NaN  \n",
              "4         NaN  San Francisco     NaN  \n",
              "...       ...            ...     ...  \n",
              "148649    NaN  San Francisco     NaN  \n",
              "148650    NaN  San Francisco     NaN  \n",
              "148651    NaN  San Francisco     NaN  \n",
              "148652    NaN  San Francisco     NaN  \n",
              "148653    NaN  San Francisco     NaN  \n",
              "\n",
              "[148654 rows x 13 columns]"
            ]
          },
          "execution_count": 46,
          "metadata": {},
          "output_type": "execute_result"
        }
      ],
      "source": [
        "sal = pd.read_csv('Salaries.csv')\n",
        "sal"
      ]
    },
    {
      "cell_type": "markdown",
      "metadata": {
        "id": "GyQQGQtgE6i_"
      },
      "source": [
        "**Check the head of the DataFrame.**"
      ]
    },
    {
      "cell_type": "code",
      "execution_count": null,
      "metadata": {
        "id": "dHo9aW5LE6i_",
        "outputId": "06c2bb54-9ae6-44ae-f2eb-b19aada34387"
      },
      "outputs": [
        {
          "data": {
            "text/html": [
              "<div>\n",
              "<style scoped>\n",
              "    .dataframe tbody tr th:only-of-type {\n",
              "        vertical-align: middle;\n",
              "    }\n",
              "\n",
              "    .dataframe tbody tr th {\n",
              "        vertical-align: top;\n",
              "    }\n",
              "\n",
              "    .dataframe thead th {\n",
              "        text-align: right;\n",
              "    }\n",
              "</style>\n",
              "<table border=\"1\" class=\"dataframe\">\n",
              "  <thead>\n",
              "    <tr style=\"text-align: right;\">\n",
              "      <th></th>\n",
              "      <th>Id</th>\n",
              "      <th>EmployeeName</th>\n",
              "      <th>JobTitle</th>\n",
              "      <th>BasePay</th>\n",
              "      <th>OvertimePay</th>\n",
              "      <th>OtherPay</th>\n",
              "      <th>Benefits</th>\n",
              "      <th>TotalPay</th>\n",
              "      <th>TotalPayBenefits</th>\n",
              "      <th>Year</th>\n",
              "      <th>Notes</th>\n",
              "      <th>Agency</th>\n",
              "      <th>Status</th>\n",
              "    </tr>\n",
              "  </thead>\n",
              "  <tbody>\n",
              "    <tr>\n",
              "      <th>0</th>\n",
              "      <td>1</td>\n",
              "      <td>NATHANIEL FORD</td>\n",
              "      <td>GENERAL MANAGER-METROPOLITAN TRANSIT AUTHORITY</td>\n",
              "      <td>167411.18</td>\n",
              "      <td>0.00</td>\n",
              "      <td>400184.25</td>\n",
              "      <td>NaN</td>\n",
              "      <td>567595.43</td>\n",
              "      <td>567595.43</td>\n",
              "      <td>2011</td>\n",
              "      <td>NaN</td>\n",
              "      <td>San Francisco</td>\n",
              "      <td>NaN</td>\n",
              "    </tr>\n",
              "    <tr>\n",
              "      <th>1</th>\n",
              "      <td>2</td>\n",
              "      <td>GARY JIMENEZ</td>\n",
              "      <td>CAPTAIN III (POLICE DEPARTMENT)</td>\n",
              "      <td>155966.02</td>\n",
              "      <td>245131.88</td>\n",
              "      <td>137811.38</td>\n",
              "      <td>NaN</td>\n",
              "      <td>538909.28</td>\n",
              "      <td>538909.28</td>\n",
              "      <td>2011</td>\n",
              "      <td>NaN</td>\n",
              "      <td>San Francisco</td>\n",
              "      <td>NaN</td>\n",
              "    </tr>\n",
              "    <tr>\n",
              "      <th>2</th>\n",
              "      <td>3</td>\n",
              "      <td>ALBERT PARDINI</td>\n",
              "      <td>CAPTAIN III (POLICE DEPARTMENT)</td>\n",
              "      <td>212739.13</td>\n",
              "      <td>106088.18</td>\n",
              "      <td>16452.60</td>\n",
              "      <td>NaN</td>\n",
              "      <td>335279.91</td>\n",
              "      <td>335279.91</td>\n",
              "      <td>2011</td>\n",
              "      <td>NaN</td>\n",
              "      <td>San Francisco</td>\n",
              "      <td>NaN</td>\n",
              "    </tr>\n",
              "    <tr>\n",
              "      <th>3</th>\n",
              "      <td>4</td>\n",
              "      <td>CHRISTOPHER CHONG</td>\n",
              "      <td>WIRE ROPE CABLE MAINTENANCE MECHANIC</td>\n",
              "      <td>77916.00</td>\n",
              "      <td>56120.71</td>\n",
              "      <td>198306.90</td>\n",
              "      <td>NaN</td>\n",
              "      <td>332343.61</td>\n",
              "      <td>332343.61</td>\n",
              "      <td>2011</td>\n",
              "      <td>NaN</td>\n",
              "      <td>San Francisco</td>\n",
              "      <td>NaN</td>\n",
              "    </tr>\n",
              "    <tr>\n",
              "      <th>4</th>\n",
              "      <td>5</td>\n",
              "      <td>PATRICK GARDNER</td>\n",
              "      <td>DEPUTY CHIEF OF DEPARTMENT,(FIRE DEPARTMENT)</td>\n",
              "      <td>134401.60</td>\n",
              "      <td>9737.00</td>\n",
              "      <td>182234.59</td>\n",
              "      <td>NaN</td>\n",
              "      <td>326373.19</td>\n",
              "      <td>326373.19</td>\n",
              "      <td>2011</td>\n",
              "      <td>NaN</td>\n",
              "      <td>San Francisco</td>\n",
              "      <td>NaN</td>\n",
              "    </tr>\n",
              "  </tbody>\n",
              "</table>\n",
              "</div>"
            ],
            "text/plain": [
              "   Id       EmployeeName                                        JobTitle  \\\n",
              "0   1     NATHANIEL FORD  GENERAL MANAGER-METROPOLITAN TRANSIT AUTHORITY   \n",
              "1   2       GARY JIMENEZ                 CAPTAIN III (POLICE DEPARTMENT)   \n",
              "2   3     ALBERT PARDINI                 CAPTAIN III (POLICE DEPARTMENT)   \n",
              "3   4  CHRISTOPHER CHONG            WIRE ROPE CABLE MAINTENANCE MECHANIC   \n",
              "4   5    PATRICK GARDNER    DEPUTY CHIEF OF DEPARTMENT,(FIRE DEPARTMENT)   \n",
              "\n",
              "     BasePay  OvertimePay   OtherPay  Benefits   TotalPay  TotalPayBenefits  \\\n",
              "0  167411.18         0.00  400184.25       NaN  567595.43         567595.43   \n",
              "1  155966.02    245131.88  137811.38       NaN  538909.28         538909.28   \n",
              "2  212739.13    106088.18   16452.60       NaN  335279.91         335279.91   \n",
              "3   77916.00     56120.71  198306.90       NaN  332343.61         332343.61   \n",
              "4  134401.60      9737.00  182234.59       NaN  326373.19         326373.19   \n",
              "\n",
              "   Year  Notes         Agency  Status  \n",
              "0  2011    NaN  San Francisco     NaN  \n",
              "1  2011    NaN  San Francisco     NaN  \n",
              "2  2011    NaN  San Francisco     NaN  \n",
              "3  2011    NaN  San Francisco     NaN  \n",
              "4  2011    NaN  San Francisco     NaN  "
            ]
          },
          "execution_count": 37,
          "metadata": {},
          "output_type": "execute_result"
        }
      ],
      "source": [
        "sal.head()"
      ]
    },
    {
      "cell_type": "markdown",
      "metadata": {
        "id": "zN38ZCppE6jA"
      },
      "source": [
        "**ใช้คำสั่ง .info() method to ในการดูภาพรวมของข้อมูลทั้งหมด**"
      ]
    },
    {
      "cell_type": "code",
      "execution_count": null,
      "metadata": {
        "id": "3fg-rRudE6jA",
        "outputId": "89bda314-2b7f-4eae-967d-54bb8b36d8c7"
      },
      "outputs": [
        {
          "name": "stdout",
          "output_type": "stream",
          "text": [
            "<class 'pandas.core.frame.DataFrame'>\n",
            "RangeIndex: 148654 entries, 0 to 148653\n",
            "Data columns (total 13 columns):\n",
            " #   Column            Non-Null Count   Dtype  \n",
            "---  ------            --------------   -----  \n",
            " 0   Id                148654 non-null  int64  \n",
            " 1   EmployeeName      148654 non-null  object \n",
            " 2   JobTitle          148654 non-null  object \n",
            " 3   BasePay           148045 non-null  float64\n",
            " 4   OvertimePay       148650 non-null  float64\n",
            " 5   OtherPay          148650 non-null  float64\n",
            " 6   Benefits          112491 non-null  float64\n",
            " 7   TotalPay          148654 non-null  float64\n",
            " 8   TotalPayBenefits  148654 non-null  float64\n",
            " 9   Year              148654 non-null  int64  \n",
            " 10  Notes             0 non-null       float64\n",
            " 11  Agency            148654 non-null  object \n",
            " 12  Status            0 non-null       float64\n",
            "dtypes: float64(8), int64(2), object(3)\n",
            "memory usage: 14.7+ MB\n"
          ]
        }
      ],
      "source": [
        "sal.info()"
      ]
    },
    {
      "cell_type": "markdown",
      "metadata": {
        "id": "jSzXplL4E6jA"
      },
      "source": [
        "**ให้หาค่า average ของ BasePay ?**"
      ]
    },
    {
      "cell_type": "code",
      "execution_count": null,
      "metadata": {
        "id": "f9fKMJBCE6jB",
        "outputId": "22510285-fcc3-4dd3-da7a-687ddc8ae300"
      },
      "outputs": [
        {
          "data": {
            "text/html": [
              "<div>\n",
              "<style scoped>\n",
              "    .dataframe tbody tr th:only-of-type {\n",
              "        vertical-align: middle;\n",
              "    }\n",
              "\n",
              "    .dataframe tbody tr th {\n",
              "        vertical-align: top;\n",
              "    }\n",
              "\n",
              "    .dataframe thead th {\n",
              "        text-align: right;\n",
              "    }\n",
              "</style>\n",
              "<table border=\"1\" class=\"dataframe\">\n",
              "  <thead>\n",
              "    <tr style=\"text-align: right;\">\n",
              "      <th></th>\n",
              "      <th>Id</th>\n",
              "      <th>EmployeeName</th>\n",
              "      <th>JobTitle</th>\n",
              "      <th>BasePay</th>\n",
              "      <th>OvertimePay</th>\n",
              "      <th>OtherPay</th>\n",
              "      <th>Benefits</th>\n",
              "      <th>TotalPay</th>\n",
              "      <th>TotalPayBenefits</th>\n",
              "      <th>Year</th>\n",
              "      <th>Notes</th>\n",
              "      <th>Agency</th>\n",
              "      <th>Status</th>\n",
              "    </tr>\n",
              "  </thead>\n",
              "  <tbody>\n",
              "    <tr>\n",
              "      <th>0</th>\n",
              "      <td>1</td>\n",
              "      <td>NATHANIEL FORD</td>\n",
              "      <td>GENERAL MANAGER-METROPOLITAN TRANSIT AUTHORITY</td>\n",
              "      <td>167411.18</td>\n",
              "      <td>0.00</td>\n",
              "      <td>400184.25</td>\n",
              "      <td>NaN</td>\n",
              "      <td>567595.43</td>\n",
              "      <td>567595.43</td>\n",
              "      <td>2011</td>\n",
              "      <td>NaN</td>\n",
              "      <td>San Francisco</td>\n",
              "      <td>NaN</td>\n",
              "    </tr>\n",
              "    <tr>\n",
              "      <th>1</th>\n",
              "      <td>2</td>\n",
              "      <td>GARY JIMENEZ</td>\n",
              "      <td>CAPTAIN III (POLICE DEPARTMENT)</td>\n",
              "      <td>155966.02</td>\n",
              "      <td>245131.88</td>\n",
              "      <td>137811.38</td>\n",
              "      <td>NaN</td>\n",
              "      <td>538909.28</td>\n",
              "      <td>538909.28</td>\n",
              "      <td>2011</td>\n",
              "      <td>NaN</td>\n",
              "      <td>San Francisco</td>\n",
              "      <td>NaN</td>\n",
              "    </tr>\n",
              "    <tr>\n",
              "      <th>2</th>\n",
              "      <td>3</td>\n",
              "      <td>ALBERT PARDINI</td>\n",
              "      <td>CAPTAIN III (POLICE DEPARTMENT)</td>\n",
              "      <td>212739.13</td>\n",
              "      <td>106088.18</td>\n",
              "      <td>16452.60</td>\n",
              "      <td>NaN</td>\n",
              "      <td>335279.91</td>\n",
              "      <td>335279.91</td>\n",
              "      <td>2011</td>\n",
              "      <td>NaN</td>\n",
              "      <td>San Francisco</td>\n",
              "      <td>NaN</td>\n",
              "    </tr>\n",
              "    <tr>\n",
              "      <th>3</th>\n",
              "      <td>4</td>\n",
              "      <td>CHRISTOPHER CHONG</td>\n",
              "      <td>WIRE ROPE CABLE MAINTENANCE MECHANIC</td>\n",
              "      <td>77916.00</td>\n",
              "      <td>56120.71</td>\n",
              "      <td>198306.90</td>\n",
              "      <td>NaN</td>\n",
              "      <td>332343.61</td>\n",
              "      <td>332343.61</td>\n",
              "      <td>2011</td>\n",
              "      <td>NaN</td>\n",
              "      <td>San Francisco</td>\n",
              "      <td>NaN</td>\n",
              "    </tr>\n",
              "    <tr>\n",
              "      <th>4</th>\n",
              "      <td>5</td>\n",
              "      <td>PATRICK GARDNER</td>\n",
              "      <td>DEPUTY CHIEF OF DEPARTMENT,(FIRE DEPARTMENT)</td>\n",
              "      <td>134401.60</td>\n",
              "      <td>9737.00</td>\n",
              "      <td>182234.59</td>\n",
              "      <td>NaN</td>\n",
              "      <td>326373.19</td>\n",
              "      <td>326373.19</td>\n",
              "      <td>2011</td>\n",
              "      <td>NaN</td>\n",
              "      <td>San Francisco</td>\n",
              "      <td>NaN</td>\n",
              "    </tr>\n",
              "    <tr>\n",
              "      <th>...</th>\n",
              "      <td>...</td>\n",
              "      <td>...</td>\n",
              "      <td>...</td>\n",
              "      <td>...</td>\n",
              "      <td>...</td>\n",
              "      <td>...</td>\n",
              "      <td>...</td>\n",
              "      <td>...</td>\n",
              "      <td>...</td>\n",
              "      <td>...</td>\n",
              "      <td>...</td>\n",
              "      <td>...</td>\n",
              "      <td>...</td>\n",
              "    </tr>\n",
              "    <tr>\n",
              "      <th>148649</th>\n",
              "      <td>148650</td>\n",
              "      <td>Roy I Tillery</td>\n",
              "      <td>Custodian</td>\n",
              "      <td>0.00</td>\n",
              "      <td>0.00</td>\n",
              "      <td>0.00</td>\n",
              "      <td>0.0</td>\n",
              "      <td>0.00</td>\n",
              "      <td>0.00</td>\n",
              "      <td>2014</td>\n",
              "      <td>NaN</td>\n",
              "      <td>San Francisco</td>\n",
              "      <td>NaN</td>\n",
              "    </tr>\n",
              "    <tr>\n",
              "      <th>148650</th>\n",
              "      <td>148651</td>\n",
              "      <td>Not provided</td>\n",
              "      <td>Not provided</td>\n",
              "      <td>NaN</td>\n",
              "      <td>NaN</td>\n",
              "      <td>NaN</td>\n",
              "      <td>NaN</td>\n",
              "      <td>0.00</td>\n",
              "      <td>0.00</td>\n",
              "      <td>2014</td>\n",
              "      <td>NaN</td>\n",
              "      <td>San Francisco</td>\n",
              "      <td>NaN</td>\n",
              "    </tr>\n",
              "    <tr>\n",
              "      <th>148651</th>\n",
              "      <td>148652</td>\n",
              "      <td>Not provided</td>\n",
              "      <td>Not provided</td>\n",
              "      <td>NaN</td>\n",
              "      <td>NaN</td>\n",
              "      <td>NaN</td>\n",
              "      <td>NaN</td>\n",
              "      <td>0.00</td>\n",
              "      <td>0.00</td>\n",
              "      <td>2014</td>\n",
              "      <td>NaN</td>\n",
              "      <td>San Francisco</td>\n",
              "      <td>NaN</td>\n",
              "    </tr>\n",
              "    <tr>\n",
              "      <th>148652</th>\n",
              "      <td>148653</td>\n",
              "      <td>Not provided</td>\n",
              "      <td>Not provided</td>\n",
              "      <td>NaN</td>\n",
              "      <td>NaN</td>\n",
              "      <td>NaN</td>\n",
              "      <td>NaN</td>\n",
              "      <td>0.00</td>\n",
              "      <td>0.00</td>\n",
              "      <td>2014</td>\n",
              "      <td>NaN</td>\n",
              "      <td>San Francisco</td>\n",
              "      <td>NaN</td>\n",
              "    </tr>\n",
              "    <tr>\n",
              "      <th>148653</th>\n",
              "      <td>148654</td>\n",
              "      <td>Joe Lopez</td>\n",
              "      <td>Counselor, Log Cabin Ranch</td>\n",
              "      <td>0.00</td>\n",
              "      <td>0.00</td>\n",
              "      <td>-618.13</td>\n",
              "      <td>0.0</td>\n",
              "      <td>-618.13</td>\n",
              "      <td>-618.13</td>\n",
              "      <td>2014</td>\n",
              "      <td>NaN</td>\n",
              "      <td>San Francisco</td>\n",
              "      <td>NaN</td>\n",
              "    </tr>\n",
              "  </tbody>\n",
              "</table>\n",
              "<p>148654 rows × 13 columns</p>\n",
              "</div>"
            ],
            "text/plain": [
              "            Id       EmployeeName  \\\n",
              "0            1     NATHANIEL FORD   \n",
              "1            2       GARY JIMENEZ   \n",
              "2            3     ALBERT PARDINI   \n",
              "3            4  CHRISTOPHER CHONG   \n",
              "4            5    PATRICK GARDNER   \n",
              "...        ...                ...   \n",
              "148649  148650      Roy I Tillery   \n",
              "148650  148651       Not provided   \n",
              "148651  148652       Not provided   \n",
              "148652  148653       Not provided   \n",
              "148653  148654          Joe Lopez   \n",
              "\n",
              "                                              JobTitle    BasePay  \\\n",
              "0       GENERAL MANAGER-METROPOLITAN TRANSIT AUTHORITY  167411.18   \n",
              "1                      CAPTAIN III (POLICE DEPARTMENT)  155966.02   \n",
              "2                      CAPTAIN III (POLICE DEPARTMENT)  212739.13   \n",
              "3                 WIRE ROPE CABLE MAINTENANCE MECHANIC   77916.00   \n",
              "4         DEPUTY CHIEF OF DEPARTMENT,(FIRE DEPARTMENT)  134401.60   \n",
              "...                                                ...        ...   \n",
              "148649                                       Custodian       0.00   \n",
              "148650                                    Not provided        NaN   \n",
              "148651                                    Not provided        NaN   \n",
              "148652                                    Not provided        NaN   \n",
              "148653                      Counselor, Log Cabin Ranch       0.00   \n",
              "\n",
              "        OvertimePay   OtherPay  Benefits   TotalPay  TotalPayBenefits  Year  \\\n",
              "0              0.00  400184.25       NaN  567595.43         567595.43  2011   \n",
              "1         245131.88  137811.38       NaN  538909.28         538909.28  2011   \n",
              "2         106088.18   16452.60       NaN  335279.91         335279.91  2011   \n",
              "3          56120.71  198306.90       NaN  332343.61         332343.61  2011   \n",
              "4           9737.00  182234.59       NaN  326373.19         326373.19  2011   \n",
              "...             ...        ...       ...        ...               ...   ...   \n",
              "148649         0.00       0.00       0.0       0.00              0.00  2014   \n",
              "148650          NaN        NaN       NaN       0.00              0.00  2014   \n",
              "148651          NaN        NaN       NaN       0.00              0.00  2014   \n",
              "148652          NaN        NaN       NaN       0.00              0.00  2014   \n",
              "148653         0.00    -618.13       0.0    -618.13           -618.13  2014   \n",
              "\n",
              "        Notes         Agency  Status  \n",
              "0         NaN  San Francisco     NaN  \n",
              "1         NaN  San Francisco     NaN  \n",
              "2         NaN  San Francisco     NaN  \n",
              "3         NaN  San Francisco     NaN  \n",
              "4         NaN  San Francisco     NaN  \n",
              "...       ...            ...     ...  \n",
              "148649    NaN  San Francisco     NaN  \n",
              "148650    NaN  San Francisco     NaN  \n",
              "148651    NaN  San Francisco     NaN  \n",
              "148652    NaN  San Francisco     NaN  \n",
              "148653    NaN  San Francisco     NaN  \n",
              "\n",
              "[148654 rows x 13 columns]"
            ]
          },
          "execution_count": 12,
          "metadata": {},
          "output_type": "execute_result"
        }
      ],
      "source": [
        "sal['BasePay'].mean()\n",
        "sal"
      ]
    },
    {
      "cell_type": "markdown",
      "metadata": {
        "id": "Pefs8qwlE6jB"
      },
      "source": [
        "**OvertimePay สูงที่สุด ใน dataset เท่ากับเท่าไหร่?**"
      ]
    },
    {
      "cell_type": "code",
      "execution_count": null,
      "metadata": {
        "id": "Uzr8OBLME6jB",
        "outputId": "11dd811a-590a-486f-f687-8efe583f37d6"
      },
      "outputs": [
        {
          "data": {
            "text/plain": [
              "245131.88"
            ]
          },
          "execution_count": 14,
          "metadata": {},
          "output_type": "execute_result"
        }
      ],
      "source": [
        "sal['OvertimePay'].max()"
      ]
    },
    {
      "cell_type": "markdown",
      "metadata": {
        "id": "jdhIj3pdE6jB"
      },
      "source": [
        "**JOSEPH DRISCOLL ทำงานอะไร (jobTitle)?**\n",
        "\n",
        "*Note: Use all caps, otherwise you may get an answer that doesn't match up (there is also a lowercase Joseph Driscoll).*"
      ]
    },
    {
      "cell_type": "code",
      "execution_count": null,
      "metadata": {
        "id": "P-C1rdLEE6jB",
        "outputId": "d80eca7a-15e5-4ce0-9d40-a7712ff7ed0f"
      },
      "outputs": [
        {
          "data": {
            "text/plain": [
              "24    CAPTAIN, FIRE SUPPRESSION\n",
              "Name: JobTitle, dtype: object"
            ]
          },
          "execution_count": 25,
          "metadata": {},
          "output_type": "execute_result"
        }
      ],
      "source": [
        "sal.loc[sal['EmployeeName'] == 'JOSEPH DRISCOLL','JobTitle']"
      ]
    },
    {
      "cell_type": "markdown",
      "metadata": {
        "id": "e8zMx2t5E6jB"
      },
      "source": [
        "**JOSEPH DRISCOLL ได้เงินไปทั้งหมดเท่าไหร่ (รวมทั้ง benefits)?**"
      ]
    },
    {
      "cell_type": "code",
      "execution_count": null,
      "metadata": {
        "id": "DJAa7_5cE6jB",
        "outputId": "ef026803-6a94-401a-ac36-3b8eda379bef"
      },
      "outputs": [
        {
          "data": {
            "text/plain": [
              "24    270324.91\n",
              "Name: TotalPayBenefits, dtype: float64"
            ]
          },
          "execution_count": 27,
          "metadata": {},
          "output_type": "execute_result"
        }
      ],
      "source": [
        "sal.loc[sal['EmployeeName'] == 'JOSEPH DRISCOLL','TotalPayBenefits']"
      ]
    },
    {
      "cell_type": "markdown",
      "metadata": {
        "id": "zqRrtzKBE6jC"
      },
      "source": [
        "**ใครคือคนที่ได้รับเงินมากที่สุด (รวมทั้ง benefits)?**"
      ]
    },
    {
      "cell_type": "code",
      "execution_count": null,
      "metadata": {
        "id": "Yqg9jlgVE6jC",
        "outputId": "f7f7967b-7b63-45d0-d2ea-14b99a0ae1d4"
      },
      "outputs": [
        {
          "data": {
            "text/html": [
              "<div>\n",
              "<style scoped>\n",
              "    .dataframe tbody tr th:only-of-type {\n",
              "        vertical-align: middle;\n",
              "    }\n",
              "\n",
              "    .dataframe tbody tr th {\n",
              "        vertical-align: top;\n",
              "    }\n",
              "\n",
              "    .dataframe thead th {\n",
              "        text-align: right;\n",
              "    }\n",
              "</style>\n",
              "<table border=\"1\" class=\"dataframe\">\n",
              "  <thead>\n",
              "    <tr style=\"text-align: right;\">\n",
              "      <th></th>\n",
              "      <th>Id</th>\n",
              "      <th>EmployeeName</th>\n",
              "      <th>JobTitle</th>\n",
              "      <th>BasePay</th>\n",
              "      <th>OvertimePay</th>\n",
              "      <th>OtherPay</th>\n",
              "      <th>Benefits</th>\n",
              "      <th>TotalPay</th>\n",
              "      <th>TotalPayBenefits</th>\n",
              "      <th>Year</th>\n",
              "      <th>Notes</th>\n",
              "      <th>Agency</th>\n",
              "      <th>Status</th>\n",
              "    </tr>\n",
              "  </thead>\n",
              "  <tbody>\n",
              "    <tr>\n",
              "      <th>0</th>\n",
              "      <td>1</td>\n",
              "      <td>NATHANIEL FORD</td>\n",
              "      <td>GENERAL MANAGER-METROPOLITAN TRANSIT AUTHORITY</td>\n",
              "      <td>167411.18</td>\n",
              "      <td>0.0</td>\n",
              "      <td>400184.25</td>\n",
              "      <td>NaN</td>\n",
              "      <td>567595.43</td>\n",
              "      <td>567595.43</td>\n",
              "      <td>2011</td>\n",
              "      <td>NaN</td>\n",
              "      <td>San Francisco</td>\n",
              "      <td>NaN</td>\n",
              "    </tr>\n",
              "  </tbody>\n",
              "</table>\n",
              "</div>"
            ],
            "text/plain": [
              "   Id    EmployeeName                                        JobTitle  \\\n",
              "0   1  NATHANIEL FORD  GENERAL MANAGER-METROPOLITAN TRANSIT AUTHORITY   \n",
              "\n",
              "     BasePay  OvertimePay   OtherPay  Benefits   TotalPay  TotalPayBenefits  \\\n",
              "0  167411.18          0.0  400184.25       NaN  567595.43         567595.43   \n",
              "\n",
              "   Year  Notes         Agency  Status  \n",
              "0  2011    NaN  San Francisco     NaN  "
            ]
          },
          "execution_count": 29,
          "metadata": {},
          "output_type": "execute_result"
        }
      ],
      "source": [
        "sal[sal['TotalPayBenefits'] == sal['TotalPayBenefits'].max()]"
      ]
    },
    {
      "cell_type": "markdown",
      "metadata": {
        "id": "SsNT8fz1E6jC"
      },
      "source": [
        "**ใครคือคนที่ได้รับเงินน้องที่สุด (รวมทั้ง benefits)?**\n",
        "\n",
        "*Do you notice something strange about how much he or she is paid?*"
      ]
    },
    {
      "cell_type": "code",
      "execution_count": null,
      "metadata": {
        "id": "7YIBFf1xE6jC",
        "outputId": "d1623c2b-bf1b-49d9-d866-8d2b5e1ed3c7"
      },
      "outputs": [
        {
          "data": {
            "text/html": [
              "<div>\n",
              "<style scoped>\n",
              "    .dataframe tbody tr th:only-of-type {\n",
              "        vertical-align: middle;\n",
              "    }\n",
              "\n",
              "    .dataframe tbody tr th {\n",
              "        vertical-align: top;\n",
              "    }\n",
              "\n",
              "    .dataframe thead th {\n",
              "        text-align: right;\n",
              "    }\n",
              "</style>\n",
              "<table border=\"1\" class=\"dataframe\">\n",
              "  <thead>\n",
              "    <tr style=\"text-align: right;\">\n",
              "      <th></th>\n",
              "      <th>Id</th>\n",
              "      <th>EmployeeName</th>\n",
              "      <th>JobTitle</th>\n",
              "      <th>BasePay</th>\n",
              "      <th>OvertimePay</th>\n",
              "      <th>OtherPay</th>\n",
              "      <th>Benefits</th>\n",
              "      <th>TotalPay</th>\n",
              "      <th>TotalPayBenefits</th>\n",
              "      <th>Year</th>\n",
              "      <th>Notes</th>\n",
              "      <th>Agency</th>\n",
              "      <th>Status</th>\n",
              "    </tr>\n",
              "  </thead>\n",
              "  <tbody>\n",
              "    <tr>\n",
              "      <th>148653</th>\n",
              "      <td>148654</td>\n",
              "      <td>Joe Lopez</td>\n",
              "      <td>Counselor, Log Cabin Ranch</td>\n",
              "      <td>0.0</td>\n",
              "      <td>0.0</td>\n",
              "      <td>-618.13</td>\n",
              "      <td>0.0</td>\n",
              "      <td>-618.13</td>\n",
              "      <td>-618.13</td>\n",
              "      <td>2014</td>\n",
              "      <td>NaN</td>\n",
              "      <td>San Francisco</td>\n",
              "      <td>NaN</td>\n",
              "    </tr>\n",
              "  </tbody>\n",
              "</table>\n",
              "</div>"
            ],
            "text/plain": [
              "            Id EmployeeName                    JobTitle  BasePay  OvertimePay  \\\n",
              "148653  148654    Joe Lopez  Counselor, Log Cabin Ranch      0.0          0.0   \n",
              "\n",
              "        OtherPay  Benefits  TotalPay  TotalPayBenefits  Year  Notes  \\\n",
              "148653   -618.13       0.0   -618.13           -618.13  2014    NaN   \n",
              "\n",
              "               Agency  Status  \n",
              "148653  San Francisco     NaN  "
            ]
          },
          "execution_count": 30,
          "metadata": {},
          "output_type": "execute_result"
        }
      ],
      "source": [
        "sal[sal['TotalPayBenefits'] == sal['TotalPayBenefits'].min()]"
      ]
    },
    {
      "cell_type": "markdown",
      "metadata": {
        "id": "E-N6T3FtE6jC"
      },
      "source": [
        "**จงหาค่า average (mean) ของ BasePay ของ employees ทั้งหมดในแต่ละปี (2011-2014)**"
      ]
    },
    {
      "cell_type": "code",
      "execution_count": null,
      "metadata": {
        "id": "aHyQDo0iE6jC",
        "outputId": "bf547fd9-fe05-4369-b791-7cab209d1e3b"
      },
      "outputs": [
        {
          "data": {
            "text/plain": [
              "Year\n",
              "2011    63595.956517\n",
              "2012    65436.406857\n",
              "2013    69630.030216\n",
              "2014    66564.421924\n",
              "Name: BasePay, dtype: float64"
            ]
          },
          "execution_count": 31,
          "metadata": {},
          "output_type": "execute_result"
        }
      ],
      "source": [
        "sal.groupby('Year')['BasePay'].mean()"
      ]
    },
    {
      "cell_type": "markdown",
      "metadata": {
        "id": "befGL5ygE6jD"
      },
      "source": [
        "**มีชื่อตำแหน่งงานต่างๆ (unique job) อยู่กี่ชื่อ?**"
      ]
    },
    {
      "cell_type": "code",
      "execution_count": null,
      "metadata": {
        "id": "jUBzuT_uE6jD",
        "outputId": "393636cd-b8fd-40c2-c4c1-b7d63a15d64c"
      },
      "outputs": [
        {
          "data": {
            "text/plain": [
              "2159"
            ]
          },
          "execution_count": 32,
          "metadata": {},
          "output_type": "execute_result"
        }
      ],
      "source": [
        "sal['JobTitle'].nunique()"
      ]
    },
    {
      "cell_type": "markdown",
      "metadata": {
        "id": "UzH4bI8LE6jD"
      },
      "source": [
        "**top 5 ตำแน่งเป็นที่ต้องการในที่ต่างๆ มีีอะไรบ้าง ?**"
      ]
    },
    {
      "cell_type": "code",
      "execution_count": null,
      "metadata": {
        "id": "wWX0_0_mE6jD",
        "outputId": "a853c8b9-126a-4ea0-c41e-7b463bd7e694"
      },
      "outputs": [
        {
          "data": {
            "text/plain": [
              "JobTitle\n",
              "Transit Operator                7036\n",
              "Special Nurse                   4389\n",
              "Registered Nurse                3736\n",
              "Public Svc Aide-Public Works    2518\n",
              "Police Officer 3                2421\n",
              "Name: count, dtype: int64"
            ]
          },
          "execution_count": 34,
          "metadata": {},
          "output_type": "execute_result"
        }
      ],
      "source": [
        "sal['JobTitle'].value_counts().head(5)"
      ]
    },
    {
      "cell_type": "markdown",
      "metadata": {
        "id": "8hsleIcQE6jD"
      },
      "source": [
        "**มีจำนวนกี่่ตำแหน่งที่ต้องการเพียง 2 คน ในบี 2013? (e.g. Job Titles with only one occurence in 2013?)**"
      ]
    },
    {
      "cell_type": "code",
      "execution_count": null,
      "metadata": {
        "id": "m0PLk4XpE6jD",
        "outputId": "e867e09a-948d-4a00-bce2-8d9170bddd03"
      },
      "outputs": [
        {
          "data": {
            "text/plain": [
              "69"
            ]
          },
          "execution_count": 36,
          "metadata": {},
          "output_type": "execute_result"
        }
      ],
      "source": [
        "sum(sal[sal['Year'] == 2013]['JobTitle'].value_counts() == 2)"
      ]
    },
    {
      "cell_type": "markdown",
      "metadata": {
        "id": "uNiUS-UqE6jD"
      },
      "source": [
        "**มีคนกี่คนที่มีคำว่า Chief อยู่ในชื่อตำแหน่ง job title ของเค้า (This is pretty tricky)**"
      ]
    },
    {
      "cell_type": "code",
      "execution_count": null,
      "metadata": {
        "id": "cJecY68-E6jD"
      },
      "outputs": [],
      "source": [
        "a = lambda x : 'chief' in x.lower()"
      ]
    },
    {
      "cell_type": "code",
      "execution_count": null,
      "metadata": {
        "id": "-sRxIP2JE6jD",
        "outputId": "6bceb625-4628-4a24-eed8-ba89c92133cb"
      },
      "outputs": [
        {
          "data": {
            "text/plain": [
              "627"
            ]
          },
          "execution_count": 52,
          "metadata": {},
          "output_type": "execute_result"
        }
      ],
      "source": [
        "sal[sal['JobTitle'].apply(a)]['JobTitle'].count()"
      ]
    },
    {
      "cell_type": "markdown",
      "metadata": {
        "id": "Ek1PSKVfE6jD"
      },
      "source": [
        "### ----- ภาวนามยปัญญา ปัญญาที่เกิดจากการลงมือทำ! -----"
      ]
    }
  ],
  "metadata": {
    "kernelspec": {
      "display_name": "Python 3 (ipykernel)",
      "language": "python",
      "name": "python3"
    },
    "language_info": {
      "codemirror_mode": {
        "name": "ipython",
        "version": 3
      },
      "file_extension": ".py",
      "mimetype": "text/x-python",
      "name": "python",
      "nbconvert_exporter": "python",
      "pygments_lexer": "ipython3",
      "version": "3.11.5"
    },
    "colab": {
      "provenance": []
    }
  },
  "nbformat": 4,
  "nbformat_minor": 0
}